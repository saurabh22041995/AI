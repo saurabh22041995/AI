{
  "nbformat": 4,
  "nbformat_minor": 0,
  "metadata": {
    "colab": {
      "name": "1_Python_Assignment.ipynb",
      "provenance": [],
      "collapsed_sections": []
    },
    "kernelspec": {
      "display_name": "Python 3",
      "language": "python",
      "name": "python3"
    },
    "language_info": {
      "codemirror_mode": {
        "name": "ipython",
        "version": 3
      },
      "file_extension": ".py",
      "mimetype": "text/x-python",
      "name": "python",
      "nbconvert_exporter": "python",
      "pygments_lexer": "ipython3",
      "version": "3.8.5"
    }
  },
  "cells": [
    {
      "cell_type": "markdown",
      "metadata": {
        "id": "l0ZzOlyxB-kf"
      },
      "source": [
        "<h1>Python: without numpy or sklearn </h1>"
      ]
    },
    {
      "cell_type": "markdown",
      "metadata": {
        "id": "C0xO8JV9B-ki"
      },
      "source": [
        "<h3> Q1: Given two matrices please print the product of those two matrices </h3>\n",
        "<pre>\n",
        "\n",
        "Ex 1: A   = [[1 3 4]\n",
        "             [2 5 7]\n",
        "             [5 9 6]]\n",
        "             \n",
        "      B   = [[1 0 0]\n",
        "             [0 1 0]\n",
        "             [0 0 1]]\n",
        "             \n",
        "      A*B = [[1 3 4]\n",
        "             [2 5 7]\n",
        "             [5 9 6]]\n",
        "\n",
        "     \n",
        "Ex 2: A   = [[1 2]\n",
        "             [3 4]]\n",
        "             \n",
        "      B   = [[1 2 3 4 5]\n",
        "             [5 6 7 8 9]]\n",
        "             \n",
        "      A*B = [[11 14 17 20 23]\n",
        "             [23 30 36 42 51]]\n",
        "             \n",
        "Ex 3: A   = [[1 2]\n",
        "             [3 4]]\n",
        "             \n",
        "      B   = [[1 4]\n",
        "             [5 6]\n",
        "             [7 8]\n",
        "             [9 6]]\n",
        "      A*B =Not possible\n",
        "</pre>"
      ]
    },
    {
      "cell_type": "code",
      "metadata": {
        "id": "rnssAfpgB-kj",
        "colab": {
          "base_uri": "https://localhost:8080/"
        },
        "outputId": "f4215da9-a728-4896-e15f-7163b4c7e1e8"
      },
      "source": [
        "\n",
        "def matrix_mul(A, B):\n",
        "    \n",
        "    if len(A[0]) != len(B): return \"Not Possible\"\n",
        "    \n",
        "    newMat = []\n",
        "    \n",
        "    for indexA in range(len(A)):\n",
        "        insideArray = []\n",
        "        for innerIndexB in range(len(B[0])):\n",
        "            valSum = 0\n",
        "            for indexB in range(len(B)):\n",
        "                valSum = valSum + (A[indexA][indexB]*B[indexB][innerIndexB])\n",
        "            insideArray.append(valSum)\n",
        "        newMat.append(insideArray)\n",
        "    \n",
        "    return(newMat)\n",
        "\n",
        "A   = [[1, 2],\n",
        "        [3, 4]]\n",
        "             \n",
        "B   = [[1, 2, 3, 4, 5],\n",
        "         [5, 6, 7, 8, 9]]\n",
        "    \n",
        "matrix_mul(A, B)"
      ],
      "execution_count": null,
      "outputs": [
        {
          "output_type": "execute_result",
          "data": {
            "text/plain": [
              "[[11, 14, 17, 20, 23], [23, 30, 37, 44, 51]]"
            ]
          },
          "metadata": {
            "tags": []
          },
          "execution_count": 228
        }
      ]
    },
    {
      "cell_type": "markdown",
      "metadata": {
        "id": "at4VwLggB-kn"
      },
      "source": [
        "<h3> Q2: Select a number randomly with probability proportional to its magnitude from the given array of n elements</h3>\n",
        "\n",
        "consider an experiment, selecting an element from the list A randomly with probability proportional to its magnitude.\n",
        "assume we are doing the same experiment for 100 times with replacement, in each experiment you will print a number that is selected randomly from A.\n",
        "\n",
        "<pre>\n",
        "Ex 1: A = [0 5 27 6 13 28 100 45 10 79]\n",
        "let f(x) denote the number of times x getting selected in 100 experiments.\n",
        "f(100) > f(79) > f(45) > f(28) > f(27) > f(13) > f(10) > f(6) > f(5) > f(0)\n",
        "</pre>"
      ]
    },
    {
      "cell_type": "code",
      "metadata": {
        "id": "B6S2dpBhB-kn",
        "colab": {
          "base_uri": "https://localhost:8080/"
        },
        "outputId": "53cd5ce4-98c9-40a7-eaf3-837fd129b45d"
      },
      "source": [
        "from random import uniform\n",
        "\n",
        "def pick_a_number_from_list(A):\n",
        "    sumVal = 0\n",
        "    for ele in A:\n",
        "        sumVal += ele\n",
        "    cumsum = 0\n",
        "    listOfCumsum = []\n",
        "    for val in A:\n",
        "        tillNowCumsum = cumsum+(val/sumVal)\n",
        "        listOfCumsum.append(tillNowCumsum)\n",
        "        cumsum = tillNowCumsum\n",
        "    randomVal = uniform(0.0, 1.0)\n",
        "    for i in range(0, len(listOfCumsum)):\n",
        "        if randomVal >= listOfCumsum[i] and randomVal < listOfCumsum[i+1]:\n",
        "            return A[i+1]\n",
        "\n",
        "def sampling_based_on_magnitued():\n",
        "    A = [0, 5, 27, 6, 13, 28, 100, 45, 10, 79]\n",
        "    for i in range(1,100):\n",
        "        number = pick_a_number_from_list(A)\n",
        "        print(number)\n",
        "\n",
        "sampling_based_on_magnitued()"
      ],
      "execution_count": null,
      "outputs": [
        {
          "output_type": "stream",
          "text": [
            "27\n",
            "100\n",
            "79\n",
            "79\n",
            "10\n",
            "45\n",
            "13\n",
            "79\n",
            "27\n",
            "100\n",
            "5\n",
            "13\n",
            "28\n",
            "100\n",
            "100\n",
            "79\n",
            "27\n",
            "100\n",
            "100\n",
            "79\n",
            "28\n",
            "79\n",
            "79\n",
            "10\n",
            "79\n",
            "79\n",
            "79\n",
            "79\n",
            "100\n",
            "100\n",
            "100\n",
            "45\n",
            "100\n",
            "79\n",
            "6\n",
            "10\n",
            "10\n",
            "79\n",
            "100\n",
            "100\n",
            "28\n",
            "27\n",
            "79\n",
            "100\n",
            "79\n",
            "100\n",
            "79\n",
            "100\n",
            "45\n",
            "27\n",
            "28\n",
            "100\n",
            "79\n",
            "100\n",
            "79\n",
            "100\n",
            "100\n",
            "100\n",
            "13\n",
            "100\n",
            "79\n",
            "27\n",
            "100\n",
            "45\n",
            "100\n",
            "79\n",
            "79\n",
            "79\n",
            "28\n",
            "100\n",
            "79\n",
            "10\n",
            "10\n",
            "100\n",
            "45\n",
            "45\n",
            "100\n",
            "79\n",
            "10\n",
            "10\n",
            "28\n",
            "100\n",
            "27\n",
            "79\n",
            "10\n",
            "28\n",
            "79\n",
            "79\n",
            "45\n",
            "45\n",
            "100\n",
            "45\n",
            "100\n",
            "100\n",
            "100\n",
            "6\n",
            "100\n",
            "13\n",
            "45\n"
          ],
          "name": "stdout"
        }
      ]
    },
    {
      "cell_type": "markdown",
      "metadata": {
        "id": "D1xQy2WWB-kq"
      },
      "source": [
        "<h3> Q3: Replace the digits in the string with #</h3>\n",
        "\n",
        "consider a string that will have digits in that, we need to remove all the not digits and replace the digits with #\n",
        "<pre>\n",
        "Ex 1: A = 234                Output: ###\n",
        "Ex 2: A = a2b3c4             Output: ###\n",
        "Ex 3: A = abc                Output:   (empty string)\n",
        "Ex 5: A = #2a$#b%c%561#      Output: ####\n",
        "</pre>"
      ]
    },
    {
      "cell_type": "code",
      "metadata": {
        "id": "fxczi2jzB-kr",
        "colab": {
          "base_uri": "https://localhost:8080/"
        },
        "outputId": "4cc06e93-2db6-4b64-f42c-00ac2f75919c"
      },
      "source": [
        "import re\n",
        "\n",
        "def replace_digits(String):\n",
        "    for i in re.findall(r'\\d', String):\n",
        "        hashVal = print(\"#\", end=\"\")\n",
        "    return(hashVal)\n",
        "\n",
        "String = \"#2a$#b%c%561#\"\n",
        "replace_digits(String)"
      ],
      "execution_count": null,
      "outputs": [
        {
          "output_type": "stream",
          "text": [
            "####"
          ],
          "name": "stdout"
        }
      ]
    },
    {
      "cell_type": "markdown",
      "metadata": {
        "id": "j7h0Ywg7B-kw"
      },
      "source": [
        "<h3> Q4: Students marks dashboard</h3>\n",
        "\n",
        "consider the marks list of class students given two lists <br>\n",
        "Students = ['student1','student2','student3','student4','student5','student6','student7','student8','student9','student10'] <br>\n",
        "Marks = [45, 78, 12, 14, 48, 43, 45, 98, 35, 80] <br>\n",
        "from the above two lists the Student[0] got Marks[0],  Student[1] got Marks[1] and so on <br><br>\n",
        "your task is to print the name of students\n",
        "<strong>a. Who got top 5 ranks, in the descending order of marks</strong> <br>\n",
        "<strong>b. Who got least 5 ranks, in the increasing order of marks</strong><br>\n",
        "<strong>d. Who got marks between  &gt;25th percentile &lt;75th percentile, in the increasing order of marks</strong>\n",
        "\n",
        "<pre>\n",
        "Ex 1: \n",
        "Students=['student1','student2','student3','student4','student5','student6','student7','student8','student9','student10'] \n",
        "Marks = [45, 78, 12, 14, 48, 43, 47, 98, 35, 80]\n",
        "a. \n",
        "student8  98\n",
        "student10 80\n",
        "student2  78\n",
        "student5  48\n",
        "student7  47\n",
        "b.\n",
        "student3 12\n",
        "student4 14\n",
        "student9 35\n",
        "student6 43\n",
        "student1 45\n",
        "c.\n",
        "student9 35\n",
        "student6 43\n",
        "student1 45\n",
        "student7 47\n",
        "student5 48\n",
        "</pre>"
      ]
    },
    {
      "cell_type": "code",
      "metadata": {
        "id": "cxPJgItsB-kx",
        "colab": {
          "base_uri": "https://localhost:8080/"
        },
        "outputId": "751292b9-209e-4617-ed38-3de00f2b1836"
      },
      "source": [
        "\n",
        "def display_dash_board(students, marks):\n",
        "    \n",
        "    studentMarks = dict()\n",
        "    for i in range(len(students)):\n",
        "        studentMarks[students[i]] = marks[i]\n",
        "        \n",
        "    # top 5 students\n",
        "    \n",
        "    top_marks = sorted(studentMarks.values())[:4:-1]\n",
        "    top_5_students = dict()\n",
        "    for m in top_marks:\n",
        "        for student, t_marks in studentMarks.items():\n",
        "            if t_marks == m:\n",
        "                top_5_students[student] = t_marks\n",
        "    \n",
        "    # top least 5 students\n",
        "    \n",
        "    least_marks = sorted(studentMarks.values())[:5]\n",
        "    least_5_students = dict()\n",
        "    for l in least_marks:\n",
        "        for student, l_marks in studentMarks.items():\n",
        "            if l_marks == l:\n",
        "                least_5_students[student] = l_marks\n",
        "    \n",
        "    # students_within_25_and_75 percentile\n",
        "\n",
        "    percentile_25 = len(students)*(25/100)\n",
        "    percentile_75 = len(students)*(75/100)\n",
        "    students_within_25_and_75 = dict()\n",
        "    stu_25_75 = sorted(studentMarks.values())[(round(percentile_25)):round(percentile_75)-1]\n",
        "    for p in stu_25_75:\n",
        "        for student, p_marks in studentMarks.items():\n",
        "            if p_marks == p:\n",
        "                students_within_25_and_75[student] = p_marks\n",
        "    \n",
        "    return top_5_students, least_5_students, students_within_25_and_75\n",
        "\n",
        "\n",
        "Students=['student1','student2','student3','student4','student5','student6','student7','student8','student9','student10'] \n",
        "Marks = [45, 78, 12, 14, 48, 43, 47, 98, 35, 80]\n",
        "\n",
        "top_5_students, least_5_students, students_within_25_and_75 = display_dash_board(Students, Marks)\n",
        "\n",
        "print(\"a.\", end=\"\\n\")\n",
        "for key, value in top_5_students.items():\n",
        "    print(key, \" \", value)\n",
        "print(\"b.\", end=\"\\n\")\n",
        "for key, value in least_5_students.items():\n",
        "    print(key, \" \", value)\n",
        "print(\"c.\", end=\"\\n\")\n",
        "for key, value in students_within_25_and_75.items():\n",
        "    print(key, \" \", value)"
      ],
      "execution_count": null,
      "outputs": [
        {
          "output_type": "stream",
          "text": [
            "a.\n",
            "student8   98\n",
            "student10   80\n",
            "student2   78\n",
            "student5   48\n",
            "student7   47\n",
            "b.\n",
            "student3   12\n",
            "student4   14\n",
            "student9   35\n",
            "student6   43\n",
            "student1   45\n",
            "c.\n",
            "student9   35\n",
            "student6   43\n",
            "student1   45\n",
            "student7   47\n",
            "student5   48\n"
          ],
          "name": "stdout"
        }
      ]
    },
    {
      "cell_type": "markdown",
      "metadata": {
        "id": "qha0OhQHB-k1"
      },
      "source": [
        "<h3> Q5: Find the closest points</h3>\n",
        "\n",
        "consider you have given n data points in the form of list of tuples like S=[(x1,y1),(x2,y2),(x3,y3),(x4,y4),(x5,y5),..,(xn,yn)] and a point P=(p,q) <br> your task is to find 5 closest points(based on cosine distance) in S from P\n",
        "<br>cosine distance between two points (x,y) and (p,q) is defind as $cos^{-1}(\\frac{(x\\cdot p+y\\cdot q)}{\\sqrt(x^2+y^2)\\cdot\\sqrt(p^2+q^2)})$\n",
        "<pre>\n",
        "Ex:\n",
        "\n",
        "S= [(1,2),(3,4),(-1,1),(6,-7),(0, 6),(-5,-8),(-1,-1)(6,0),(1,-1)]\n",
        "P= (3,-4)\n",
        "<img src='https://i.imgur.com/vIFPOcG.jpg', width=300>\n",
        "Output:\n",
        "(6,-7)\n",
        "(1,-1)\n",
        "(6,0)\n",
        "(-5,-8)\n",
        "(-1,-1)\n",
        "</pre>"
      ]
    },
    {
      "cell_type": "code",
      "metadata": {
        "id": "wA5I1g-2B-k2",
        "colab": {
          "base_uri": "https://localhost:8080/"
        },
        "outputId": "64319996-7210-4326-99f1-5c9ada127dd8"
      },
      "source": [
        "import math\n",
        "\n",
        "def closest_points_to_p(S, P):\n",
        "    distancesOfPoints = []\n",
        "    mergeTup = {}\n",
        "    closest_points_to_p = []\n",
        "    for tup in S:\n",
        "        dist = math.acos(((tup[0]*P[0])+(tup[1]*P[1]))/((math.sqrt(pow(tup[0], 2)+pow(tup[1], 2)))*(math.sqrt(pow(P[0], 2)+pow(P[1],2)))))\n",
        "        distancesOfPoints.append(dist)\n",
        "    for i in range(len(distancesOfPoints)):\n",
        "        mergeTup[distancesOfPoints[i]] = S[i]\n",
        "    for k in sorted(mergeTup.keys())[:5]:\n",
        "        for key, value in mergeTup.items():\n",
        "            if key == k:\n",
        "                closest_points_to_p.append(value)\n",
        "    return closest_points_to_p\n",
        "\n",
        "S= [(1,2),(3,4),(-1,1),(6,-7),(0, 6),(-5,-8),(-1,-1),(6,0),(1,-1)]\n",
        "P= (3,-4)\n",
        "points = closest_points_to_p(S, P)\n",
        "for p in points:\n",
        "    print(p)"
      ],
      "execution_count": null,
      "outputs": [
        {
          "output_type": "stream",
          "text": [
            "(6, -7)\n",
            "(1, -1)\n",
            "(6, 0)\n",
            "(-5, -8)\n",
            "(-1, -1)\n"
          ],
          "name": "stdout"
        }
      ]
    },
    {
      "cell_type": "markdown",
      "metadata": {
        "id": "-g11jeAiB-k5"
      },
      "source": [
        "<h3> Q6: Find Which line separates oranges and apples</h3>\n",
        "consider you have given two set of data points in the form of list of tuples like \n",
        "<pre>\n",
        "Red =[(R11,R12),(R21,R22),(R31,R32),(R41,R42),(R51,R52),..,(Rn1,Rn2)]\n",
        "Blue=[(B11,B12),(B21,B22),(B31,B32),(B41,B42),(B51,B52),..,(Bm1,Bm2)]\n",
        "</pre>\n",
        "and set of line equations(in the string formate, i.e list of strings)\n",
        "<pre>\n",
        "Lines = [a1x+b1y+c1,a2x+b2y+c2,a3x+b3y+c3,a4x+b4y+c4,..,K lines]\n",
        "Note: you need to string parsing here and get the coefficients of x,y and intercept\n",
        "</pre>\n",
        "your task is to for each line that is given print \"YES\"/\"NO\", you will print yes, if all the red points are one side of the line and blue points are other side of the line, otherwise no\n",
        "<pre>\n",
        "Ex:\n",
        "Red= [(1,1),(2,1),(4,2),(2,4), (-1,4)]\n",
        "Blue= [(-2,-1),(-1,-2),(-3,-2),(-3,-1),(1,-3)]\n",
        "Lines=[\"1x+1y+0\",\"1x-1y+0\",\"1x+0y-3\",\"0x+1y-0.5\"]\n",
        "<img src='https://i.imgur.com/DoQf7mE.jpg' width=400>\n",
        "Output:\n",
        "YES\n",
        "NO\n",
        "NO\n",
        "YES\n",
        "</pre>"
      ]
    },
    {
      "cell_type": "code",
      "metadata": {
        "id": "eRxExaTRB-k6",
        "colab": {
          "base_uri": "https://localhost:8080/"
        },
        "outputId": "a452629f-e679-4fda-d815-fb5cb8442ac6"
      },
      "source": [
        "\n",
        "def point_product(a, b, c, tup1, tup2):\n",
        "  x1, y1 = tup1\n",
        "  x2, y2 = tup2\n",
        "  fx1 = (a*int(x1)) + (b*int(y1)) + c\n",
        "  fx2 = (a*int(x2)) + (b*int(y2)) + c\n",
        "  if int(fx1 * fx2) >= 0:\n",
        "    return True\n",
        "  else:\n",
        "    return False\n",
        "\n",
        "def i_am_the_one(red,blue,line):\n",
        "  result = False\n",
        "  a, b, c = re.split('x|y', line)\n",
        "  for r in red:\n",
        "    for bl in blue:\n",
        "      result = point_product(float(a), float(b), float(c), r, bl)\n",
        "      if result:\n",
        "        result = True\n",
        "      else:\n",
        "        result = False\n",
        "        break\n",
        "    break\n",
        "  if result:\n",
        "    return \"No\"\n",
        "  else:\n",
        "    return \"Yes\"\n",
        "\n",
        "Red= [(1,1),(2,1),(4,2),(2,4), (-1,4)]\n",
        "Blue= [(-2,-1),(-1,-2),(-3,-2),(-3,-1),(1,-3)]\n",
        "Lines=[\"1x+1y+0\",\"1x-1y+0\",\"1x+0y-3\",\"0x+1y-0.5\"]\n",
        "\n",
        "for i in Lines:\n",
        "    yes_or_no = i_am_the_one(Red, Blue, i)\n",
        "    print(yes_or_no)"
      ],
      "execution_count": null,
      "outputs": [
        {
          "output_type": "stream",
          "text": [
            "Yes\n",
            "No\n",
            "No\n",
            "Yes\n"
          ],
          "name": "stdout"
        }
      ]
    },
    {
      "cell_type": "markdown",
      "metadata": {
        "id": "9OBpURbNB-k9"
      },
      "source": [
        "<h3> Q7: Filling the missing values in the specified formate</h3>\n",
        "You will be given a string with digits and '\\_'(missing value) symbols you have to replace the '\\_' symbols as explained \n",
        "<pre>\n",
        "Ex 1: _, _, _, 24 ==> 24/4, 24/4, 24/4, 24/4 i.e we. have distributed the 24 equally to all 4 places <br>\n",
        "Ex 2: 40, _, _, _, 60 ==> (60+40)/5,(60+40)/5,(60+40)/5,(60+40)/5,(60+40)/5 ==> 20, 20, 20, 20, 20 i.e. the sum of (60+40) is distributed qually to all 5 places<br>\n",
        "Ex 3: 80, _, _, _, _  ==> 80/5,80/5,80/5,80/5,80/5 ==> 16, 16, 16, 16, 16 i.e. the 80 is distributed qually to all 5 missing values that are right to it<br>\n",
        "Ex 4: _, _, 30, _, _, _, 50, _, _  \n",
        "==> we will fill the missing values from left to right \n",
        "    a. first we will distribute the 30 to left two missing values (10, 10, 10, _, _, _, 50, _, _)\n",
        "    b. now distribute the sum (10+50) missing values in between (10, 10, 12, 12, 12, 12, 12, _, _) \n",
        "    c. now we will distribute 12 to right side missing values (10, 10, 12, 12, 12, 12, 4, 4, 4)\n",
        "</pre>\n",
        "for a given string with comma seprate values, which will have both missing values numbers like ex: \"_, _, x, _, _, _\"\n",
        "you need fill the missing values\n",
        "\n",
        "Q: your program reads a string like ex: \"_, _, x, _, _, _\" and returns the filled sequence\n",
        "\n",
        "Ex: \n",
        "<pre>\n",
        "Input1: \"_,_,_,24\"\n",
        "Output1: 6,6,6,6\n",
        "\n",
        "Input2: \"40,_,_,_,60\"\n",
        "Output2: 20,20,20,20,20\n",
        "\n",
        "Input3: \"80,_,_,_,_\"\n",
        "Output3: 16,16,16,16,16\n",
        "\n",
        "Input4: \"_,_,30,_,_,_,50,_,_\"\n",
        "Output4: 10,10,12,12,12,12,4,4,4\n",
        "</pre>\n",
        "\n"
      ]
    },
    {
      "cell_type": "code",
      "metadata": {
        "id": "nZmpzHs_B-k-",
        "colab": {
          "base_uri": "https://localhost:8080/"
        },
        "outputId": "3d2afd88-5674-4d68-99d4-d59203ad4dc0"
      },
      "source": [
        "\n",
        "def curve_smoothing(string):\n",
        "    split_string = string.split(',')\n",
        "    countSpace = 0\n",
        "    initial = 0\n",
        "    initialindex = 0\n",
        "    lastindex = 0\n",
        "    for i, ele in enumerate(split_string):\n",
        "        if ele == \"_\":\n",
        "            countSpace += 1\n",
        "            lastindex = i+1\n",
        "            if i == len(split_string)-1:\n",
        "                divide = initial/(countSpace)\n",
        "                split_string[initialindex:lastindex] = countSpace * [str(int(divide))]\n",
        "                countSpace = 1\n",
        "                initial = int(divide)\n",
        "                initialindex = i\n",
        "        else:\n",
        "          if i == len(split_string)-1:\n",
        "              divide = (initial+int(ele))/(countSpace+1)\n",
        "              split_string[initialindex:lastindex+1] = (countSpace+1) * [str(int(divide))]\n",
        "              countSpace = 1\n",
        "              initial = int(divide)\n",
        "              initialindex = i\n",
        "          else:\n",
        "              divide = (initial+int(ele))/(countSpace+1)\n",
        "              split_string[initialindex:lastindex] = countSpace * [str(int(divide))]\n",
        "              countSpace = 1\n",
        "              initial = int(divide)\n",
        "              initialindex = i\n",
        "    return split_string\n",
        "\n",
        "S=  \"_,_,30,_,_,_,50,_,_\"\n",
        "\n",
        "smoothed_values= curve_smoothing(S)\n",
        "print(\",\".join(smoothed_values))"
      ],
      "execution_count": null,
      "outputs": [
        {
          "output_type": "stream",
          "text": [
            "10,10,12,12,12,12,4,4,4\n"
          ],
          "name": "stdout"
        }
      ]
    },
    {
      "cell_type": "markdown",
      "metadata": {
        "id": "RBz4pzlfB-lB"
      },
      "source": [
        "<h3> Q8: Filling the missing values in the specified formate</h3>\n",
        "You will be given a list of lists, each sublist will be of length 2 i.e. [[x,y],[p,q],[l,m]..[r,s]]\n",
        "consider its like a martrix of n rows and two columns\n",
        "1. the first column F will contain only 5 uniques values (F1, F2, F3, F4, F5)\n",
        "2. the second column S will contain only 3 uniques values (S1, S2, S3)\n",
        "<pre>\n",
        "your task is to find\n",
        "a. Probability of P(F=F1|S==S1), P(F=F1|S==S2), P(F=F1|S==S3)\n",
        "b. Probability of P(F=F2|S==S1), P(F=F2|S==S2), P(F=F2|S==S3)\n",
        "c. Probability of P(F=F3|S==S1), P(F=F3|S==S2), P(F=F3|S==S3)\n",
        "d. Probability of P(F=F4|S==S1), P(F=F4|S==S2), P(F=F4|S==S3)\n",
        "e. Probability of P(F=F5|S==S1), P(F=F5|S==S2), P(F=F5|S==S3)\n",
        "</pre>\n",
        "Ex:\n",
        "\n",
        "<pre>\n",
        "[[F1,S1],[F2,S2],[F3,S3],[F1,S2],[F2,S3],[F3,S2],[F2,S1],[F4,S1],[F4,S3],[F5,S1]]\n",
        "\n",
        "a. P(F=F1|S==S1)=1/4, P(F=F1|S==S2)=1/3, P(F=F1|S==S3)=0/3\n",
        "b. P(F=F2|S==S1)=1/4, P(F=F2|S==S2)=1/3, P(F=F2|S==S3)=1/3\n",
        "c. P(F=F3|S==S1)=0/4, P(F=F3|S==S2)=1/3, P(F=F3|S==S3)=1/3\n",
        "d. P(F=F4|S==S1)=1/4, P(F=F4|S==S2)=0/3, P(F=F4|S==S3)=1/3\n",
        "e. P(F=F5|S==S1)=1/4, P(F=F5|S==S2)=0/3, P(F=F5|S==S3)=0/3\n",
        "</pre>\n",
        "\n",
        "\n"
      ]
    },
    {
      "cell_type": "code",
      "metadata": {
        "id": "e-1giz1MB-lC",
        "colab": {
          "base_uri": "https://localhost:8080/"
        },
        "outputId": "75e1c332-f7b5-4bea-d2ce-70a587aee654"
      },
      "source": [
        "def print_func(A, fIndex, Sindex, Sdict):\n",
        "  count = 0\n",
        "  for row in A:\n",
        "    if row[0] == 'F'+str(fIndex) and row[1] == 'S'+str(Sindex):\n",
        "      count += 1\n",
        "  return (\"Probability of P(F\" + str(fIndex) + \"|S\" + str(Sindex) + \")\" + \" = \" + str(count) + \"/\" + str(Sdict['S' + str(Sindex)]))\n",
        "\n",
        "def compute_conditional_probabilites(A):\n",
        "    Sdict = dict()\n",
        "    for row in A:\n",
        "      a = Sdict.get(row[1], 0)\n",
        "      Sdict[row[1]] = a + 1\n",
        "    for f in range(1,6):\n",
        "      fString = ''\n",
        "      for s in range(1, 4):\n",
        "        pString = print_func(A, f, s, Sdict)\n",
        "        if s == 3:\n",
        "          print(pString)\n",
        "        else:\n",
        "          print(pString, end=\", \")\n",
        "      fString = pString\n",
        "      print(\"\",end=\"\\n\")\n",
        "\n",
        "\n",
        "A = [['F1','S1'],['F2','S2'],['F3','S3'],['F1','S2'],['F2','S3'],['F3','S2'],['F2','S1'],['F4','S1'],['F4','S3'],['F5','S1']]\n",
        "\n",
        "compute_conditional_probabilites(A)"
      ],
      "execution_count": null,
      "outputs": [
        {
          "output_type": "stream",
          "text": [
            "Probability of P(F1|S1) = 1/4, Probability of P(F1|S2) = 1/3, Probability of P(F1|S3) = 0/3\n",
            "\n",
            "Probability of P(F2|S1) = 1/4, Probability of P(F2|S2) = 1/3, Probability of P(F2|S3) = 1/3\n",
            "\n",
            "Probability of P(F3|S1) = 0/4, Probability of P(F3|S2) = 1/3, Probability of P(F3|S3) = 1/3\n",
            "\n",
            "Probability of P(F4|S1) = 1/4, Probability of P(F4|S2) = 0/3, Probability of P(F4|S3) = 1/3\n",
            "\n",
            "Probability of P(F5|S1) = 1/4, Probability of P(F5|S2) = 0/3, Probability of P(F5|S3) = 0/3\n",
            "\n"
          ],
          "name": "stdout"
        }
      ]
    },
    {
      "cell_type": "markdown",
      "metadata": {
        "id": "n4HS87QmB-lF"
      },
      "source": [
        "<h3> Q9: Given two sentances S1, S2</h3>\n",
        "You will be given two sentances S1, S2 your task is to find \n",
        "<pre>\n",
        "a. Number of common words between S1, S2\n",
        "b. Words in S1 but not in S2\n",
        "c. Words in S2 but not in S1\n",
        "</pre>\n",
        "\n",
        "Ex: \n",
        "<pre>\n",
        "S1= \"the first column F will contain only 5 uniques values\"\n",
        "S2= \"the second column S will contain only 3 uniques values\"\n",
        "Output:\n",
        "a. 7\n",
        "b. ['first','F','5']\n",
        "c. ['second','S','3']\n",
        "</pre>"
      ]
    },
    {
      "cell_type": "code",
      "metadata": {
        "id": "Ez7hlHK0B-lG",
        "colab": {
          "base_uri": "https://localhost:8080/"
        },
        "outputId": "97827c58-2023-4394-e27d-49cdd02e81fc"
      },
      "source": [
        "\n",
        "def string_features(S1, S2):\n",
        "    s1_dict = dict() \n",
        "    s2_dict = dict()\n",
        "    a = 0\n",
        "    b = []\n",
        "    c = []\n",
        "\n",
        "    # S1 dict\n",
        "    for s in S1.split(\" \"):\n",
        "      ind = s1_dict.get(s, 0)\n",
        "      s1_dict[s] = ind + 1\n",
        "    \n",
        "    # S2 dict\n",
        "    for s in S2.split(\" \"):\n",
        "      ind = s2_dict.get(s, 0)\n",
        "      s2_dict[s] = ind + 1\n",
        "\n",
        "      # c point calculation\n",
        "      i = s1_dict.get(s, -1)\n",
        "      if i == -1:\n",
        "        c.append(s)\n",
        "    \n",
        "    # a and b point calculation\n",
        "    for ele in S1.split(\" \"):\n",
        "      i = s2_dict.get(ele, -1)\n",
        "      if i != -1:\n",
        "        a += 1\n",
        "      else:\n",
        "        b.append(ele)\n",
        "    \n",
        "    return a, b, c\n",
        "\n",
        "S1= \"the first column F will contain only 5 uniques values\"\n",
        "S2= \"the second column S will contain only 3 uniques values\"\n",
        "a,b,c = string_features(S1, S2)\n",
        "print(\" a.\", a, \"\\n\", \"b.\", b, \"\\n\", \"c. \", c)"
      ],
      "execution_count": null,
      "outputs": [
        {
          "output_type": "stream",
          "text": [
            " a. 7 \n",
            " b. ['first', 'F', '5'] \n",
            " c.  ['second', 'S', '3']\n"
          ],
          "name": "stdout"
        }
      ]
    },
    {
      "cell_type": "markdown",
      "metadata": {
        "id": "XefXVEjCB-lI"
      },
      "source": [
        "<h3> Q10: Given two sentances S1, S2</h3>\n",
        "You will be given a list of lists, each sublist will be of length 2 i.e. [[x,y],[p,q],[l,m]..[r,s]]\n",
        "consider its like a martrix of n rows and two columns\n",
        "\n",
        "a. the first column Y will contain interger values <br>\n",
        "b. the second column $Y_{score}$ will be having float values <br>\n",
        "Your task is to find the value of $f(Y,Y_{score}) = -1*\\frac{1}{n}\\Sigma_{for each Y,Y_{score} pair}(Ylog10(Y_{score})+(1-Y)log10(1-Y_{score}))$ here n is the number of rows in the matrix\n",
        "<pre>\n",
        "Ex:\n",
        "[[1, 0.4], [0, 0.5], [0, 0.9], [0, 0.3], [0, 0.6], [1, 0.1], [1, 0.9], [1, 0.8]]\n",
        "output:\n",
        "0.4243099\n",
        "</pre>\n",
        "$\\frac{-1}{8}\\cdot((1\\cdot log_{10}(0.4)+0\\cdot log_{10}(0.6))+(0\\cdot log_{10}(0.5)+1\\cdot log_{10}(0.5)) + ... + (1\\cdot log_{10}(0.8)+0\\cdot log_{10}(0.2)) )$"
      ]
    },
    {
      "cell_type": "code",
      "metadata": {
        "id": "N9zkagyNB-lJ",
        "colab": {
          "base_uri": "https://localhost:8080/"
        },
        "outputId": "8f658283-dcd4-45b1-f273-14263322e0f0"
      },
      "source": [
        "def compute_sum(eleList):\n",
        "  y = eleList[0]\n",
        "  y_score = eleList[1]\n",
        "  innerSum = ( (y*math.log10(y_score)) + ((1-y)*(math.log10(1-y_score))))\n",
        "  return innerSum\n",
        "\n",
        "def compute_log_loss(A):\n",
        "  summation = 0\n",
        "  loss = 0\n",
        "  for ele in A:\n",
        "    summation += compute_sum(ele)\n",
        "    loss = summation * (-1/len(A))\n",
        "  return loss\n",
        "\n",
        "A = [[1, 0.4], [0, 0.5], [0, 0.9], [0, 0.3], [0, 0.6], [1, 0.1], [1, 0.9], [1, 0.8]]\n",
        "loss = compute_log_loss(A)\n",
        "print('{0:.7f}'.format(loss))"
      ],
      "execution_count": null,
      "outputs": [
        {
          "output_type": "stream",
          "text": [
            "0.4243099\n"
          ],
          "name": "stdout"
        }
      ]
    }
  ]
}