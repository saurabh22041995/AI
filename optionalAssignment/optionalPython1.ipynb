{
  "nbformat": 4,
  "nbformat_minor": 0,
  "metadata": {
    "colab": {
      "name": "optionalPython1.ipynb",
      "provenance": [],
      "collapsed_sections": []
    },
    "kernelspec": {
      "name": "python3",
      "display_name": "Python 3"
    }
  },
  "cells": [
    {
      "cell_type": "markdown",
      "metadata": {
        "id": "DnMI-ZpdxdhX"
      },
      "source": [
        "1. Multiplication of Number"
      ]
    },
    {
      "cell_type": "code",
      "metadata": {
        "colab": {
          "base_uri": "https://localhost:8080/"
        },
        "id": "ykNeQucuxlJD",
        "outputId": "baa4d277-c153-48f3-c889-eda05b569d56"
      },
      "source": [
        "def multiplicationOfNumber():\n",
        "  number = int(input(\"Enter multiplication Number: \"))\n",
        "  if isinstance(number, int):\n",
        "    for i in range(1, 11):\n",
        "      print(\"{} x {} = {}\".format(number, i, number*i))\n",
        "  else:\n",
        "    print(\"Accepts only integer\")\n",
        "\n",
        "multiplicationOfNumber()"
      ],
      "execution_count": 7,
      "outputs": [
        {
          "output_type": "stream",
          "text": [
            "Enter multiplication Number: 5\n",
            "5 x 1 = 5\n",
            "5 x 2 = 10\n",
            "5 x 3 = 15\n",
            "5 x 4 = 20\n",
            "5 x 5 = 25\n",
            "5 x 6 = 30\n",
            "5 x 7 = 35\n",
            "5 x 8 = 40\n",
            "5 x 9 = 45\n",
            "5 x 10 = 50\n"
          ],
          "name": "stdout"
        }
      ]
    },
    {
      "cell_type": "markdown",
      "metadata": {
        "id": "NkfjKSmx3LM4"
      },
      "source": [
        "2. Print twin primes upto 1000"
      ]
    },
    {
      "cell_type": "code",
      "metadata": {
        "colab": {
          "base_uri": "https://localhost:8080/"
        },
        "id": "66nKAguv5YCv",
        "outputId": "2d942a92-a7fa-441a-cddf-bcc96036bfc0"
      },
      "source": [
        "primeNumbers = list()\n",
        "for p in range(2, 1001):\n",
        "  for i in range(2, p):\n",
        "    if p%i == 0:\n",
        "      break\n",
        "  else:\n",
        "    primeNumbers.append(p)\n",
        "for twin in range(0, len(primeNumbers)-1):\n",
        "  if primeNumbers[twin+1] - primeNumbers[twin] == 2:\n",
        "    print((primeNumbers[twin], primeNumbers[twin+1]), end=\",\")"
      ],
      "execution_count": 8,
      "outputs": [
        {
          "output_type": "stream",
          "text": [
            "(3, 5),(5, 7),(11, 13),(17, 19),(29, 31),(41, 43),(59, 61),(71, 73),(101, 103),(107, 109),(137, 139),(149, 151),(179, 181),(191, 193),(197, 199),(227, 229),(239, 241),(269, 271),(281, 283),(311, 313),(347, 349),(419, 421),(431, 433),(461, 463),(521, 523),(569, 571),(599, 601),(617, 619),(641, 643),(659, 661),(809, 811),(821, 823),(827, 829),(857, 859),(881, 883),"
          ],
          "name": "stdout"
        }
      ]
    },
    {
      "cell_type": "markdown",
      "metadata": {
        "id": "IAwvXQ9BAetc"
      },
      "source": [
        "3. Prime Factors of a number"
      ]
    },
    {
      "cell_type": "code",
      "metadata": {
        "colab": {
          "base_uri": "https://localhost:8080/"
        },
        "id": "cH7r6mHWCpTs",
        "outputId": "900f324b-e47c-4655-8eef-4f3e0eae5fa0"
      },
      "source": [
        "prime = list()\n",
        "factors = list()\n",
        "number = int(input(\"Enter Number: \"))\n",
        "for i in range(2, number+1):\n",
        "  for j in range(2, i):\n",
        "    if i%j == 0:\n",
        "      break\n",
        "  else:\n",
        "    prime.append(i)\n",
        "for pr in prime:\n",
        "  if number == 1: break\n",
        "  while number % pr == 0:\n",
        "    factors.append(pr)\n",
        "    number = number / pr\n",
        "print(','.join([str(a) for a in factors]))"
      ],
      "execution_count": 9,
      "outputs": [
        {
          "output_type": "stream",
          "text": [
            "Enter Number: 9\n",
            "3,3\n"
          ],
          "name": "stdout"
        }
      ]
    },
    {
      "cell_type": "markdown",
      "metadata": {
        "id": "7TadsVgGRQrp"
      },
      "source": [
        "4. Permutation and Combination Formulae"
      ]
    },
    {
      "cell_type": "code",
      "metadata": {
        "colab": {
          "base_uri": "https://localhost:8080/"
        },
        "id": "vgWx1x31Shx8",
        "outputId": "ce3158a7-d9fa-4c22-87f7-8609c624184d"
      },
      "source": [
        "def factorial(f):\n",
        "  if f==1 or f==0: return 1\n",
        "  return f*factorial(f-1)\n",
        "\n",
        "def p(n,r):\n",
        "  if n > 0 and r > 0 and n >= r:\n",
        "    nfac = factorial(n)\n",
        "    rfac = factorial(n-r)\n",
        "    return nfac/rfac\n",
        "  else:\n",
        "    return \"n and r > 0 and n >= r\"\n",
        "def c(n,r):\n",
        "  if n > 0 and r > 0 and n >= r:\n",
        "    return p(n,r)/factorial(r)\n",
        "  else:\n",
        "    return \"n and r > 0 and n >= r\"\n",
        "\n",
        "print(\"permutation \",p(5,3))\n",
        "print(\"combination \",c(5,3))"
      ],
      "execution_count": 10,
      "outputs": [
        {
          "output_type": "stream",
          "text": [
            "permutation  60.0\n",
            "combination  10.0\n"
          ],
          "name": "stdout"
        }
      ]
    },
    {
      "cell_type": "markdown",
      "metadata": {
        "id": "2AZFLvjdX2yg"
      },
      "source": [
        "5. Decimal to binary number."
      ]
    },
    {
      "cell_type": "code",
      "metadata": {
        "colab": {
          "base_uri": "https://localhost:8080/"
        },
        "id": "cO4O_AdqYEs3",
        "outputId": "ca40f997-8fe3-4ddc-c470-9f1b99822a0d"
      },
      "source": [
        "def dtob(n):\n",
        "  if n > 1:\n",
        "    dtob(n//2)\n",
        "  print(n%2, end=\"\")\n",
        "dtob(17)"
      ],
      "execution_count": 11,
      "outputs": [
        {
          "output_type": "stream",
          "text": [
            "10001"
          ],
          "name": "stdout"
        }
      ]
    },
    {
      "cell_type": "markdown",
      "metadata": {
        "id": "9FUlK8t9a6KZ"
      },
      "source": [
        "6. whether is an Armstrong number"
      ]
    },
    {
      "cell_type": "code",
      "metadata": {
        "colab": {
          "base_uri": "https://localhost:8080/"
        },
        "id": "U_Cb6E6nbX_t",
        "outputId": "5c72d6e5-33e7-4be0-ddf9-f28a5b784864"
      },
      "source": [
        "def cubesum(n):\n",
        "  add = 0\n",
        "  sn = str(n)\n",
        "  sp = [s for s in sn]\n",
        "  for p in sp:\n",
        "    ip = int(p)\n",
        "    add += ip**3\n",
        "  return add\n",
        "\n",
        "def PrintArmstrong(b):\n",
        "  try:\n",
        "     if int(b):\n",
        "       return cubesum(b)\n",
        "  except:\n",
        "    return \"Only integer accepted\"\n",
        "\n",
        "def isArmstrong(a):\n",
        "  try:\n",
        "    if int(a):\n",
        "      return cubesum(a) == int(a)\n",
        "  except:\n",
        "    return \"Only integer accepted\"\n",
        "\n",
        "print(PrintArmstrong(\"153\"))\n",
        "print(isArmstrong(\"153\"))"
      ],
      "execution_count": 12,
      "outputs": [
        {
          "output_type": "stream",
          "text": [
            "153\n",
            "True\n"
          ],
          "name": "stdout"
        }
      ]
    },
    {
      "cell_type": "markdown",
      "metadata": {
        "id": "8OpQs_xdhoBf"
      },
      "source": [
        "7. Product of digits of a number"
      ]
    },
    {
      "cell_type": "code",
      "metadata": {
        "colab": {
          "base_uri": "https://localhost:8080/"
        },
        "id": "wtPAmmh4hzJo",
        "outputId": "d7dd6564-c13d-4700-e5d2-ef5a4e7d2c3b"
      },
      "source": [
        "def prodDigits(num):\n",
        "  try:\n",
        "    pro = 1\n",
        "    snum = str(num)\n",
        "    spnum = [a for a in snum]\n",
        "    for n in spnum:\n",
        "      i = int(n)\n",
        "      pro *= i\n",
        "    return pro\n",
        "  except:\n",
        "    return \"Please enter a valid and positive number\"\n",
        "    \n",
        "print(prodDigits(566))"
      ],
      "execution_count": 13,
      "outputs": [
        {
          "output_type": "stream",
          "text": [
            "180\n"
          ],
          "name": "stdout"
        }
      ]
    },
    {
      "cell_type": "markdown",
      "metadata": {
        "id": "Yl7s3xbCjjdV"
      },
      "source": [
        "8. input a number and return its multiplicative digital root and\n",
        "multiplicative persistence respectively"
      ]
    },
    {
      "cell_type": "code",
      "metadata": {
        "colab": {
          "base_uri": "https://localhost:8080/"
        },
        "id": "rNjEEPBRIF-h",
        "outputId": "f9ef5411-064d-4708-a64e-2db3104c4bf3"
      },
      "source": [
        "def MDR():\n",
        "  try:\n",
        "    number = int(input(\"Enter number: \"))\n",
        "    while number >= 10:\n",
        "      number = prodDigits(number)\n",
        "    return number\n",
        "  except:\n",
        "    return \"Please enter a valid number\"\n",
        "\n",
        "def MPersistence():\n",
        "  try:\n",
        "    number = int(input(\"Enter number: \"))\n",
        "    step = 0\n",
        "    while number >= 10:\n",
        "      number = prodDigits(number)\n",
        "      step += 1\n",
        "    return step\n",
        "  except:\n",
        "    return \"Please enter a valid number\"\n",
        "\n",
        "print(\"MDR: \",MDR())\n",
        "print(\"MPersistence: \",MPersistence())"
      ],
      "execution_count": 15,
      "outputs": [
        {
          "output_type": "stream",
          "text": [
            "Enter number: 86\n",
            "MDR:  6\n",
            "Enter number: 86\n",
            "MPersistence:  3\n"
          ],
          "name": "stdout"
        }
      ]
    },
    {
      "cell_type": "markdown",
      "metadata": {
        "id": "V48QEzSjMP-W"
      },
      "source": [
        "9. Find the sum of proper divisors"
      ]
    },
    {
      "cell_type": "code",
      "metadata": {
        "colab": {
          "base_uri": "https://localhost:8080/"
        },
        "id": "UKm3aG1bWqBZ",
        "outputId": "89c2a99a-f413-4920-b884-3f848519fd5a"
      },
      "source": [
        "def sumPdivisors(num):\n",
        "  try:\n",
        "    # num = int(input(\"Enter a number: \"))\n",
        "    add = 0\n",
        "    if num == 0: return \"Number should be greater then 0\"\n",
        "    for i in range(1, num):\n",
        "      if num % i == 0:\n",
        "        add += i\n",
        "        # print(i, end=\", \")\n",
        "    return add\n",
        "  except:\n",
        "    return \"Please enter a valid number.\"\n",
        "\n",
        "print(sumPdivisors(284))"
      ],
      "execution_count": 16,
      "outputs": [
        {
          "output_type": "stream",
          "text": [
            "220\n"
          ],
          "name": "stdout"
        }
      ]
    },
    {
      "cell_type": "markdown",
      "metadata": {
        "id": "YS7v17L7cDrt"
      },
      "source": [
        "10. All the perfect number in a given range."
      ]
    },
    {
      "cell_type": "code",
      "metadata": {
        "colab": {
          "base_uri": "https://localhost:8080/"
        },
        "id": "2Eu8zhVFcY7d",
        "outputId": "45d909c0-865f-4fb5-b235-fed26d4e144f"
      },
      "source": [
        "def perfect(frm, to):\n",
        "  if isinstance(frm, int) and isinstance(to, int) and frm < to:\n",
        "    for i in range(frm, to+1):\n",
        "      if sumPdivisors(i) == i:\n",
        "        print(i, end=\", \")\n",
        "perfect(2, 100)"
      ],
      "execution_count": 17,
      "outputs": [
        {
          "output_type": "stream",
          "text": [
            "6, 28, "
          ],
          "name": "stdout"
        }
      ]
    },
    {
      "cell_type": "markdown",
      "metadata": {
        "id": "DAW_VThHez4h"
      },
      "source": [
        "11. Print amicable number in a range."
      ]
    },
    {
      "cell_type": "code",
      "metadata": {
        "colab": {
          "base_uri": "https://localhost:8080/"
        },
        "id": "vRqw2yiHe7pd",
        "outputId": "3c43f091-88b0-4a44-e6c2-a003adf71bbc"
      },
      "source": [
        "def amicable(frm, to):\n",
        "  if isinstance(frm, int) and isinstance(to, int) and frm < to:\n",
        "    for i in range(frm, to+1):\n",
        "      for j in range(i+1, to+1):\n",
        "        if sumPdivisors(i) == j and i == sumPdivisors(j):\n",
        "          print((i, j), end=\", \")\n",
        "amicable(1, 1000)"
      ],
      "execution_count": 18,
      "outputs": [
        {
          "output_type": "stream",
          "text": [
            "(220, 284), "
          ],
          "name": "stdout"
        }
      ]
    },
    {
      "cell_type": "markdown",
      "metadata": {
        "id": "9HUSWT58kq2s"
      },
      "source": [
        "12. filter odd from a list using filter."
      ]
    },
    {
      "cell_type": "code",
      "metadata": {
        "colab": {
          "base_uri": "https://localhost:8080/"
        },
        "id": "VuNlbkyDk3jB",
        "outputId": "5f8473d6-e4fa-4984-87ca-511091c420e6"
      },
      "source": [
        "lst = list(range(1, 100))\n",
        "flst = list(filter(lambda num: num % 2 != 0, lst))\n",
        "print(flst)"
      ],
      "execution_count": 19,
      "outputs": [
        {
          "output_type": "stream",
          "text": [
            "[1, 3, 5, 7, 9, 11, 13, 15, 17, 19, 21, 23, 25, 27, 29, 31, 33, 35, 37, 39, 41, 43, 45, 47, 49, 51, 53, 55, 57, 59, 61, 63, 65, 67, 69, 71, 73, 75, 77, 79, 81, 83, 85, 87, 89, 91, 93, 95, 97, 99]\n"
          ],
          "name": "stdout"
        }
      ]
    },
    {
      "cell_type": "markdown",
      "metadata": {
        "id": "aC10Vtrql5cX"
      },
      "source": [
        "13. Cube of map() in a given list"
      ]
    },
    {
      "cell_type": "code",
      "metadata": {
        "colab": {
          "base_uri": "https://localhost:8080/"
        },
        "id": "fO9c5qlSmXxv",
        "outputId": "3ad29049-790d-4248-9d3d-0e8bf0623535"
      },
      "source": [
        "cubeoflst = list(range(3, 28))\n",
        "# def cub(x):\n",
        "  # if x**3 in cubeoflst:\n",
        "  #   return x\n",
        "clst = list(map(lambda x: x**3, cubeoflst))\n",
        "# fclst = list(filter(lambda x: x != None, clst))\n",
        "print(clst)"
      ],
      "execution_count": 20,
      "outputs": [
        {
          "output_type": "stream",
          "text": [
            "[27, 64, 125, 216, 343, 512, 729, 1000, 1331, 1728, 2197, 2744, 3375, 4096, 4913, 5832, 6859, 8000, 9261, 10648, 12167, 13824, 15625, 17576, 19683]\n"
          ],
          "name": "stdout"
        }
      ]
    },
    {
      "cell_type": "markdown",
      "metadata": {
        "id": "CCn_KZt1sbhW"
      },
      "source": [
        "14. Cube of even numbers in a given list."
      ]
    },
    {
      "cell_type": "code",
      "metadata": {
        "colab": {
          "base_uri": "https://localhost:8080/"
        },
        "id": "DBC4Uq8Rshbb",
        "outputId": "d816340b-5ed7-4a2b-a87e-6cbfed15c0c9"
      },
      "source": [
        "cubeofevenlst = list(range(3, 47))\n",
        "flst = list(filter(lambda x: x % 2 == 0, cubeofevenlst))\n",
        "mlst = list(map(lambda y: y**3, flst))\n",
        "print(mlst)"
      ],
      "execution_count": 21,
      "outputs": [
        {
          "output_type": "stream",
          "text": [
            "[64, 216, 512, 1000, 1728, 2744, 4096, 5832, 8000, 10648, 13824, 17576, 21952, 27000, 32768, 39304, 46656, 54872, 64000, 74088, 85184, 97336]\n"
          ],
          "name": "stdout"
        }
      ]
    }
  ]
}